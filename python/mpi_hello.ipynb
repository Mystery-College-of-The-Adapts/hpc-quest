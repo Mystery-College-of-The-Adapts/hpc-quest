{
 "cells": [
  {
   "cell_type": "markdown",
   "metadata": {},
   "source": [
    "# Connect to a client"
   ]
  },
  {
   "cell_type": "code",
   "execution_count": 1,
   "metadata": {},
   "outputs": [],
   "source": [
    "import ipyparallel as ipp\n",
    "rc = ipp.Client()\n",
    "rc.block = True  # Use synchronous computations"
   ]
  },
  {
   "cell_type": "code",
   "execution_count": 2,
   "metadata": {},
   "outputs": [
    {
     "name": "stdout",
     "output_type": "stream",
     "text": [
      "4\n"
     ]
    }
   ],
   "source": [
    "view = rc[:]\n",
    "print(len(view))"
   ]
  },
  {
   "cell_type": "code",
   "execution_count": 3,
   "metadata": {},
   "outputs": [],
   "source": [
    "view.activate()"
   ]
  },
  {
   "cell_type": "code",
   "execution_count": 4,
   "metadata": {},
   "outputs": [],
   "source": [
    "#%%px\n",
    "from mpi4py import MPI \n",
    "size = MPI.COMM_WORLD.Get_size()\n",
    "rank = MPI.COMM_WORLD.Get_rank()\n",
    "name = MPI.Get_processor_name()"
   ]
  },
  {
   "cell_type": "code",
   "execution_count": 5,
   "metadata": {},
   "outputs": [
    {
     "name": "stdout",
     "output_type": "stream",
     "text": [
      "[stdout:0] \n",
      "Greetings from process 0 of 4 on cheyenne.\n",
      "\n",
      "[stdout:1] \n",
      "Greetings from process 3 of 4 on cheyenne.\n",
      "\n",
      "[stdout:2] \n",
      "Greetings from process 2 of 4 on cheyenne.\n",
      "\n",
      "[stdout:3] \n",
      "Greetings from process 1 of 4 on cheyenne.\n",
      "\n"
     ]
    }
   ],
   "source": [
    "%%px \n",
    "print(\"Greetings from process %d of %d on %s.\\n\" % (rank, size, name))"
   ]
  },
  {
   "cell_type": "code",
   "execution_count": 6,
   "metadata": {},
   "outputs": [
    {
     "name": "stdout",
     "output_type": "stream",
     "text": [
      "Greetings from process 0 of 4 on cheyenne.\r\n",
      "Greetings from process 2 of 4 on cheyenne.\r\n",
      "Greetings from process 1 of 4 on cheyenne.\r\n",
      "Greetings from process 3 of 4 on cheyenne.\r\n"
     ]
    }
   ],
   "source": [
    "!mpiexec -n 4 python mpi_hello.py"
   ]
  }
 ],
 "metadata": {
  "kernelspec": {
   "display_name": "Python 3",
   "language": "python",
   "name": "python3"
  },
  "language_info": {
   "codemirror_mode": {
    "name": "ipython",
    "version": 3
   },
   "file_extension": ".py",
   "mimetype": "text/x-python",
   "name": "python",
   "nbconvert_exporter": "python",
   "pygments_lexer": "ipython3",
   "version": "3.6.2"
  }
 },
 "nbformat": 4,
 "nbformat_minor": 2
}
